{
 "cells": [
  {
   "cell_type": "code",
   "execution_count": 2,
   "metadata": {},
   "outputs": [],
   "source": [
    "import time\n",
    "import numpy as np\n",
    "import pandas as pd"
   ]
  },
  {
   "cell_type": "markdown",
   "metadata": {},
   "source": [
    "## If builded with Cmake"
   ]
  },
  {
   "cell_type": "code",
   "execution_count": 1,
   "metadata": {},
   "outputs": [],
   "source": [
    "import sys\n",
    "sys.path.append('../build')\n",
    "import dataframe_bindings as df\n"
   ]
  },
  {
   "cell_type": "code",
   "execution_count": 2,
   "metadata": {},
   "outputs": [],
   "source": [
    "data = df.DataFrame()"
   ]
  },
  {
   "cell_type": "markdown",
   "metadata": {},
   "source": [
    "## If builded and installed via `setup.py`"
   ]
  },
  {
   "cell_type": "code",
   "execution_count": 1,
   "metadata": {},
   "outputs": [],
   "source": [
    "# from pytoolbox import dataframe_bindings as df\n",
    "from pytoolbox.dataframe import DataFrame"
   ]
  },
  {
   "cell_type": "code",
   "execution_count": 4,
   "metadata": {},
   "outputs": [
    {
     "name": "stdout",
     "output_type": "stream",
     "text": [
      "Help on module pytoolbox.dataframe in pytoolbox:\n",
      "\n",
      "NAME\n",
      "    pytoolbox.dataframe\n",
      "\n",
      "CLASSES\n",
      "    pybind11_builtins.pybind11_object(builtins.object)\n",
      "        dataframe_bindings.DataFrame\n",
      "\n",
      "    class DataFrame(pybind11_builtins.pybind11_object)\n",
      "     |  Method resolution order:\n",
      "     |      DataFrame\n",
      "     |      pybind11_builtins.pybind11_object\n",
      "     |      builtins.object\n",
      "     |\n",
      "     |  Methods defined here:\n",
      "     |\n",
      "     |  __getitem__(self, column_name: str) -> List[Union[float, str, NoneType]]\n",
      "     |      Allows Pythonic access to columns via indexing.\n",
      "     |\n",
      "     |  __init__(...)\n",
      "     |      __init__(self: dataframe_bindings.DataFrame) -> None\n",
      "     |\n",
      "     |      Constructor for the DataFrame class\n",
      "     |\n",
      "     |                  Parameters:\n",
      "     |                      None\n",
      "     |\n",
      "     |  __iter__ = df_iter(dataframe)\n",
      "     |\n",
      "     |  __len__(self)\n",
      "     |      Returns the number of rows in the DataFrame.\n",
      "     |\n",
      "     |  __str__(self)\n",
      "     |\n",
      "     |  add_column(...)\n",
      "     |      add_column(self: dataframe_bindings.DataFrame, column_name: str, new_col: list[Optional[Union[float, str]]]) -> None\n",
      "     |\n",
      "     |      Insert a column in the dataset, passing the name and the data\n",
      "     |\n",
      "     |                  Parameters:\n",
      "     |                      column_name (string): Name of the column to add\n",
      "     |                      new_col (list): Column to add\n",
      "     |\n",
      "     |  advanced_stat(self, column_name)\n",
      "     |\n",
      "     |  begin(...)\n",
      "     |      begin(self: dataframe_bindings.DataFrame) -> DataFrame::row_iterator\n",
      "     |\n",
      "     |      Return the begin iterator\n",
      "     |\n",
      "     |                  Parameters:\n",
      "     |                      None\n",
      "     |\n",
      "     |  calculate_correlation(...)\n",
      "     |      calculate_correlation(self: dataframe_bindings.DataFrame) -> None\n",
      "     |\n",
      "     |      Calculate the correlation matrix of the Dataframe\n",
      "     |\n",
      "     |  calculate_correlation_with_callback(...)\n",
      "     |      calculate_correlation_with_callback(self: dataframe_bindings.DataFrame, callback: Callable[[list[float]], None]) -> None\n",
      "     |\n",
      "     |      Calculate correlation matrix row by row and process it with a Python callback.\n",
      "     |\n",
      "     |                  Parameters:\n",
      "     |                      callback (callable): A Python function that processes each row of the correlation matrix.\n",
      "     |\n",
      "     |  correlation(...)\n",
      "     |      correlation(self: dataframe_bindings.DataFrame, name1: str, name2: str) -> float\n",
      "     |\n",
      "     |      Compute the correlation of the values in two columns of the Dataframe\n",
      "     |\n",
      "     |                  Parameters:\n",
      "     |                      name1 (string): Name of the first column to compute the correlation\n",
      "     |                      name2 (string): Name of the second column to compute the correlation\n",
      "     |\n",
      "     |  correlation_matrix(...)\n",
      "     |      correlation_matrix(self: dataframe_bindings.DataFrame, names: list[str]) -> None\n",
      "     |\n",
      "     |      Print the correlation matrix for some attributes (passed as a vector of strings)\n",
      "     |\n",
      "     |                  Parameters:\n",
      "     |                      names (list of strings): Names of the columns to compute the correlation matrix\n",
      "     |\n",
      "     |  covariance(...)\n",
      "     |      covariance(self: dataframe_bindings.DataFrame, name1: str, name2: str) -> float\n",
      "     |\n",
      "     |      Compute the covariance of the values in two columns of the Dataframe\n",
      "     |\n",
      "     |                  Parameters:\n",
      "     |                      name1 (string): Name of the first column to compute the covariance\n",
      "     |                      name2 (string): Name of the second column to compute the covariance\n",
      "     |\n",
      "     |  drop_col(...)\n",
      "     |      drop_col(self: dataframe_bindings.DataFrame, name: str) -> None\n",
      "     |\n",
      "     |      Drop a column by name (string)\n",
      "     |\n",
      "     |                  Parameters:\n",
      "     |                      name (string): Name of the column to drop\n",
      "     |\n",
      "     |  drop_row(...)\n",
      "     |      drop_row(self: dataframe_bindings.DataFrame, row: int) -> None\n",
      "     |\n",
      "     |      Drop a row by index (numeric)\n",
      "     |\n",
      "     |                  Parameters:\n",
      "     |                      row (int): Index of the row to drop\n",
      "     |\n",
      "     |  drop_row_nan(...)\n",
      "     |      drop_row_nan(self: dataframe_bindings.DataFrame) -> None\n",
      "     |\n",
      "     |      Drop rows with NaN values from the Dataframe\n",
      "     |\n",
      "     |                  Parameters:\n",
      "     |                      None\n",
      "     |\n",
      "     |  end(...)\n",
      "     |      end(self: dataframe_bindings.DataFrame) -> DataFrame::row_iterator\n",
      "     |\n",
      "     |      Return the end iterator\n",
      "     |\n",
      "     |                  Parameters:\n",
      "     |                      None\n",
      "     |\n",
      "     |  find_idx(...)\n",
      "     |      find_idx(self: dataframe_bindings.DataFrame, name: str) -> int\n",
      "     |\n",
      "     |      Extract the column index for a given attribute name\n",
      "     |                  if not present throw an error\n",
      "     |\n",
      "     |                  Parameters:\n",
      "     |                      name (string): Name of the column to find\n",
      "     |\n",
      "     |  formatting_width(...)\n",
      "     |      formatting_width(self: dataframe_bindings.DataFrame) -> int\n",
      "     |\n",
      "     |      Usefull method to display the output in a formatted style\n",
      "     |\n",
      "     |                  Parameters:\n",
      "     |                      None\n",
      "     |\n",
      "     |  get_column(...)\n",
      "     |      get_column(self: dataframe_bindings.DataFrame, column: int) -> list[Optional[Union[float, str]]]\n",
      "     |\n",
      "     |      Return the data from a particular column, passing the index (number)\n",
      "     |\n",
      "     |                  Parameters:\n",
      "     |                      column (int): Index of the column to get\n",
      "     |\n",
      "     |  get_data(...)\n",
      "     |      get_data(self: dataframe_bindings.DataFrame) -> list[list[Optional[Union[float, str]]]]\n",
      "     |\n",
      "     |      Return data of the dataset (without the header)\n",
      "     |\n",
      "     |                  Parameters:\n",
      "     |                      None\n",
      "     |\n",
      "     |                  Returns:\n",
      "     |                      list of list of values: Data of the Dataframe\n",
      "     |\n",
      "     |  get_double_column(...)\n",
      "     |      get_double_column(self: dataframe_bindings.DataFrame, name: str) -> list[float]\n",
      "     |\n",
      "     |      Get a vector of double from a numeric column (passed by name)\n",
      "     |                  its needed for every gsl method\n",
      "     |\n",
      "     |                  Parameters:\n",
      "     |                      name (string): Name of the column to get\n",
      "     |\n",
      "     |  get_header(...)\n",
      "     |      get_header(self: dataframe_bindings.DataFrame) -> list[str]\n",
      "     |\n",
      "     |      Return the header of the dataframe\n",
      "     |\n",
      "     |                  Parameters:\n",
      "     |                      None\n",
      "     |\n",
      "     |  get_string_column(...)\n",
      "     |      get_string_column(self: dataframe_bindings.DataFrame, name: str) -> list[str]\n",
      "     |\n",
      "     |      Get a vector of strings from a non numerical column (passed by name)\n",
      "     |\n",
      "     |                  Parameters:\n",
      "     |                      name (string): Name of the column to get\n",
      "     |\n",
      "     |  head(...)\n",
      "     |      head(self: dataframe_bindings.DataFrame) -> None\n",
      "     |\n",
      "     |      Print the first 5 rows of the dataframe\n",
      "     |\n",
      "     |                  Parameters:\n",
      "     |                      None\n",
      "     |\n",
      "     |  histogram(...)\n",
      "     |      histogram(self: dataframe_bindings.DataFrame, name: str, num_bins: int = 10) -> None\n",
      "     |\n",
      "     |      Print the histogram for a numerical column, for a given number of bins (default 10)\n",
      "     |\n",
      "     |                  Parameters:\n",
      "     |                      name (string): Name of the column to print the histogram\n",
      "     |                      num_bins (int): Number of bins for the histogram (default 10)\n",
      "     |\n",
      "     |  is_numeric(...)\n",
      "     |      is_numeric(self: dataframe_bindings.DataFrame, name: str) -> bool\n",
      "     |\n",
      "     |      Check if the data in the column (by name) are numeric\n",
      "     |\n",
      "     |                  Parameters:\n",
      "     |                      name (string): Name of the column to check\n",
      "     |\n",
      "     |  max(...)\n",
      "     |      max(self: dataframe_bindings.DataFrame, name: str) -> float\n",
      "     |\n",
      "     |      Statistics functions on numerical column (passed by name)\n",
      "     |\n",
      "     |                  Parameters:\n",
      "     |                      name (string): Name of the column to compute the maximum\n",
      "     |\n",
      "     |  mean(...)\n",
      "     |      mean(self: dataframe_bindings.DataFrame, name: str) -> float\n",
      "     |\n",
      "     |      Statistics functions on numerical column (passed by name)\n",
      "     |\n",
      "     |                  Parameters:\n",
      "     |                      name (string): Name of the column to compute the mean\n",
      "     |\n",
      "     |  median(...)\n",
      "     |      median(self: dataframe_bindings.DataFrame, name: str) -> float\n",
      "     |\n",
      "     |      Statistics functions on numerical column (passed by name)\n",
      "     |\n",
      "     |                  Parameters:\n",
      "     |                      name (string): Name of the column to compute the median\n",
      "     |\n",
      "     |  min(...)\n",
      "     |      min(self: dataframe_bindings.DataFrame, name: str) -> float\n",
      "     |\n",
      "     |      Statistics functions on numerical column (passed by name)\n",
      "     |\n",
      "     |                  Parameters:\n",
      "     |                      name (string): Name of the column to compute the minimum\n",
      "     |\n",
      "     |  plot_correlation_matrix(self, column_names)\n",
      "     |\n",
      "     |  plot_histogram(self, column_name, bins=10, kde=True)\n",
      "     |\n",
      "     |  process_rows_with_callback(...)\n",
      "     |      process_rows_with_callback(self: dataframe_bindings.DataFrame, callback: Callable[[list[Optional[Union[float, str]]]], None]) -> None\n",
      "     |\n",
      "     |      Process rows with a Python callback function.\n",
      "     |\n",
      "     |                  Parameters:\n",
      "     |                      callback (callable): A Python function that processes each row.\n",
      "     |\n",
      "     |  quantile(...)\n",
      "     |      quantile(self: dataframe_bindings.DataFrame, name: str, q: float) -> float\n",
      "     |\n",
      "     |      Return the quantile of a column for a give value of probability\n",
      "     |\n",
      "     |                  Parameters:\n",
      "     |                      name (string): Name of the column to compute the quantile\n",
      "     |                      q (float): Value of probability\n",
      "     |\n",
      "     |  read_csv(...)\n",
      "     |      read_csv(self: dataframe_bindings.DataFrame, filename: str, separator: str = ',', has_header: bool = True) -> None\n",
      "     |\n",
      "     |      Read from CSV file, specifing the separator (if necessary) and a bool to specify if\n",
      "     |                  contains the header or not (if not it will provide a default header: Col1, Col2, ...)\n",
      "     |\n",
      "     |                  Parameters:\n",
      "     |                      filename (string): Path of the CSV file to read\n",
      "     |                      separator (char): Separator of the CSV file (default: ',')\n",
      "     |                      has_header (bool): Specify if the CSV file has a header (default: True)\n",
      "     |\n",
      "     |                  Returns:\n",
      "     |                      None\n",
      "     |\n",
      "     |  read_json(...)\n",
      "     |      read_json(self: dataframe_bindings.DataFrame, filename: str) -> None\n",
      "     |\n",
      "     |      Read from JSON file, passing the filename (with the extension)\n",
      "     |\n",
      "     |                  Parameters:\n",
      "     |                      filename (string): Path of the JSON file to read\n",
      "     |\n",
      "     |                  Returns:\n",
      "     |                      None\n",
      "     |\n",
      "     |  scatter_plot(self, x_col, y_col)\n",
      "     |\n",
      "     |  sd(...)\n",
      "     |      sd(self: dataframe_bindings.DataFrame, name: str) -> float\n",
      "     |\n",
      "     |      Statistics functions on numerical column (passed by name)\n",
      "     |\n",
      "     |                  Parameters:\n",
      "     |                      name (string): Name of the column to compute the standard deviation\n",
      "     |\n",
      "     |  set_header(...)\n",
      "     |      set_header(self: dataframe_bindings.DataFrame, new_header: list[str]) -> None\n",
      "     |\n",
      "     |      Set a custom header by passing as a vector of strings\n",
      "     |\n",
      "     |                  Parameters:\n",
      "     |                      new_header (list of strings): Header to set\n",
      "     |\n",
      "     |  shape(...)\n",
      "     |      shape(self: dataframe_bindings.DataFrame) -> tuple[int, int]\n",
      "     |\n",
      "     |      Return the pair: number of rows, number of columns\n",
      "     |\n",
      "     |                  Parameters:\n",
      "     |                      None\n",
      "     |\n",
      "     |                  Returns:\n",
      "     |                      tuple: Dimensions of the Dataframe (number of rows, number of columns)\n",
      "     |\n",
      "     |  summary(...)\n",
      "     |      summary(self: dataframe_bindings.DataFrame) -> None\n",
      "     |\n",
      "     |      Print: min, 1st qu., median, mean, 3rd qu., max for all the numerical attributes\n",
      "     |\n",
      "     |                  Parameters:\n",
      "     |                      None\n",
      "     |\n",
      "     |  table(...)\n",
      "     |      table(self: dataframe_bindings.DataFrame, name: str) -> None\n",
      "     |\n",
      "     |      Frequency table for the categorical data\n",
      "     |\n",
      "     |                  Parameters:\n",
      "     |                      name (string): Name of the column to print the table\n",
      "     |\n",
      "     |  table_nan(...)\n",
      "     |      table_nan(self: dataframe_bindings.DataFrame) -> None\n",
      "     |\n",
      "     |      Print the number of nans for each attribute\n",
      "     |\n",
      "     |                  Parameters:\n",
      "     |                      None\n",
      "     |\n",
      "     |  to_np_array(self, column_name)\n",
      "     |      # Add methods to convert the column to a numpy array\n",
      "     |\n",
      "     |  to_pandas(self)\n",
      "     |      # Define additional methods\n",
      "     |\n",
      "     |  var(...)\n",
      "     |      var(self: dataframe_bindings.DataFrame, name: str) -> float\n",
      "     |\n",
      "     |      Statistics functions on numerical column (passed by name)\n",
      "     |\n",
      "     |                  Parameters:\n",
      "     |                      name (string): Name of the column to compute the variance\n",
      "     |\n",
      "     |  ----------------------------------------------------------------------\n",
      "     |  Static methods inherited from pybind11_builtins.pybind11_object:\n",
      "     |\n",
      "     |  __new__(*args, **kwargs) from pybind11_builtins.pybind11_type\n",
      "     |      Create and return a new object.  See help(type) for accurate signature.\n",
      "\n",
      "FUNCTIONS\n",
      "    __getitem__(self, column_name: str) -> List[Union[float, str, NoneType]]\n",
      "        Allows Pythonic access to columns via indexing.\n",
      "\n",
      "    __len__(self)\n",
      "        Returns the number of rows in the DataFrame.\n",
      "\n",
      "    __str__(self)\n",
      "\n",
      "DATA\n",
      "    __all__ = ['DataFrame']\n",
      "\n",
      "FILE\n",
      "    /home/giovanni/miniconda3/lib/python3.12/site-packages/pytoolbox/dataframe.py\n",
      "\n",
      "\n"
     ]
    }
   ],
   "source": [
    "import pytoolbox.dataframe\n",
    "help(pytoolbox.dataframe)"
   ]
  },
  {
   "cell_type": "markdown",
   "metadata": {},
   "source": [
    "# Using the C++ module"
   ]
  },
  {
   "cell_type": "code",
   "execution_count": 2,
   "metadata": {},
   "outputs": [
    {
     "name": "stdout",
     "output_type": "stream",
     "text": [
      "        Id  SepalLengthCm  SepalWidthCm  PetalLengthCm  PetalWidthCm  \\\n",
      "0      1.0            5.1           NaN            1.4           0.2   \n",
      "1      2.0            4.9           3.0            1.4           0.2   \n",
      "2      3.0            4.7           3.2            1.3           NaN   \n",
      "3      4.0            4.6           3.1            1.5           0.2   \n",
      "4      5.0            5.0           3.6            1.4           0.2   \n",
      "..     ...            ...           ...            ...           ...   \n",
      "145  146.0            6.7           3.0            5.2           2.3   \n",
      "146  147.0            6.3           2.5            5.0           1.9   \n",
      "147  148.0            6.5           3.0            5.2           2.0   \n",
      "148  149.0            6.2           3.4            5.4           2.3   \n",
      "149  150.0            5.9           3.0            5.1           1.8   \n",
      "\n",
      "            Species  \n",
      "0       Iris-setosa  \n",
      "1       Iris-setosa  \n",
      "2       Iris-setosa  \n",
      "3       Iris-setosa  \n",
      "4       Iris-setosa  \n",
      "..              ...  \n",
      "145  Iris-virginica  \n",
      "146  Iris-virginica  \n",
      "147  Iris-virginica  \n",
      "148  Iris-virginica  \n",
      "149  Iris-virginica  \n",
      "\n",
      "[150 rows x 6 columns]\n"
     ]
    }
   ],
   "source": [
    "iris = DataFrame()\n",
    "\n",
    "iris.read_csv('../datasets/iris.csv')\n",
    "print(iris)"
   ]
  },
  {
   "cell_type": "code",
   "execution_count": 4,
   "metadata": {},
   "outputs": [
    {
     "name": "stdout",
     "output_type": "stream",
     "text": [
      "----------------------------------------- Dataset Head -----------------------------------------\n",
      "Id              SepalLengthCm   SepalWidthCm    PetalLengthCm   PetalWidthCm    Species         \n",
      "1               5.1             nan             1.4             0.2             Iris-setosa     \n",
      "2               4.9             3               1.4             0.2             Iris-setosa     \n",
      "3               4.7             3.2             1.3             nan             Iris-setosa     \n",
      "4               4.6             3.1             1.5             0.2             Iris-setosa     \n",
      "5               5               3.6             1.4             0.2             Iris-setosa     \n",
      "------------------------------------------------------------------------------------------------\n"
     ]
    }
   ],
   "source": [
    "iris.head()"
   ]
  },
  {
   "cell_type": "code",
   "execution_count": 5,
   "metadata": {},
   "outputs": [
    {
     "name": "stdout",
     "output_type": "stream",
     "text": [
      "Help on method head in module dataframe_bindings:\n",
      "\n",
      "head(...) method of dataframe_bindings.DataFrame instance\n",
      "    head(self: dataframe_bindings.DataFrame) -> None\n",
      "\n",
      "    Print the first 5 rows of the dataframe\n",
      "\n",
      "                Parameters:\n",
      "                    None\n",
      "\n"
     ]
    }
   ],
   "source": [
    "help(iris.head)"
   ]
  },
  {
   "cell_type": "markdown",
   "metadata": {},
   "source": [
    "## Callback (2/4)"
   ]
  },
  {
   "cell_type": "code",
   "execution_count": 6,
   "metadata": {},
   "outputs": [
    {
     "name": "stdout",
     "output_type": "stream",
     "text": [
      "Id              0               \n",
      "SepalLengthCm   0               \n",
      "SepalWidthCm    2               \n",
      "PetalLengthCm   0               \n",
      "PetalWidthCm    1               \n",
      "Species         0               \n"
     ]
    }
   ],
   "source": [
    "iris.table_nan()\n",
    "iris.drop_row_nan()\n",
    "iris.drop_col('Species')\n"
   ]
  },
  {
   "cell_type": "code",
   "execution_count": null,
   "metadata": {},
   "outputs": [],
   "source": [
    "\n",
    "iris.head()"
   ]
  },
  {
   "cell_type": "code",
   "execution_count": 8,
   "metadata": {},
   "outputs": [
    {
     "name": "stdout",
     "output_type": "stream",
     "text": [
      "--------------------------------- Dataset Head ---------------------------------\n",
      "Id              SepalLengthCm   SepalWidthCm    PetalLengthCm   PetalWidthCm    \n",
      "2               4.9             3               1.4             0.2             \n",
      "4               4.6             3.1             1.5             0.2             \n",
      "5               5               3.6             1.4             0.2             \n",
      "6               5.4             3.9             1.7             0.4             \n",
      "7               4.6             3.4             1.4             0.3             \n",
      "--------------------------------------------------------------------------------\n"
     ]
    },
    {
     "name": "stdout",
     "output_type": "stream",
     "text": [
      "Processing row: [1.0000000000000002, 0.7054589754246875, -0.3984031067040775, 0.877983450009377, 0.8962933604785313]\n",
      "Processing row: [0.7054589754246875, 1.0, -0.1065970069187184, 0.8678615651845311, 0.812175360916366]\n",
      "Processing row: [-0.3984031067040775, -0.1065970069187184, 1.0, -0.4209767050059773, -0.3553290376463929]\n",
      "Processing row: [0.877983450009377, 0.8678615651845311, -0.4209767050059773, 0.9999999999999999, 0.9613790948476507]\n",
      "Processing row: [0.8962933604785313, 0.812175360916366, -0.3553290376463929, 0.9613790948476507, 1.0]\n"
     ]
    }
   ],
   "source": [
    "# Define a Python callback function\n",
    "def process_row(row):\n",
    "    print(f\"Processing row: {row}\")\n",
    "\n",
    "# Use the callback\n",
    "iris.calculate_correlation_with_callback(process_row)\n"
   ]
  },
  {
   "cell_type": "code",
   "execution_count": 9,
   "metadata": {},
   "outputs": [
    {
     "name": "stdout",
     "output_type": "stream",
     "text": [
      "Pandas Time: 0.030581951141357422\n",
      "C++ with callbacks Time: 1.3628530502319336\n",
      "C++ without callbacks Time: 1.5154204368591309\n"
     ]
    }
   ],
   "source": [
    "\n",
    "\n",
    "# Data preparation\n",
    "data = np.random.rand(1000, 100)\n",
    "df_cpp = df.DataFrame()\n",
    "df_cpp.read_csv(\"../datasets/large_dataset.csv\", \",\", False)  \n",
    "\n",
    "# Using Pandas\n",
    "start = time.time()\n",
    "df_pd = pd.DataFrame(data)\n",
    "correlation_pd = df_pd.corr()\n",
    "print(\"Pandas Time:\", time.time() - start)\n",
    "\n",
    "# Using C++ with callbacks\n",
    "start = time.time()\n",
    "df_cpp.calculate_correlation_with_callback(lambda row: None)  # No-op callback\n",
    "print(\"C++ with callbacks Time:\", time.time() - start)\n",
    "\n",
    "# Using C++ without callbacks\n",
    "start = time.time()\n",
    "df_cpp.calculate_correlation() \n",
    "print(\"C++ without callbacks Time:\", time.time() - start)\n"
   ]
  },
  {
   "cell_type": "markdown",
   "metadata": {},
   "source": [
    "## New methods (3/4)"
   ]
  },
  {
   "cell_type": "code",
   "execution_count": 10,
   "metadata": {},
   "outputs": [],
   "source": [
    "\n",
    "iris = df.DataFrame()\n",
    "iris.read_csv(\"../datasets/iris.csv\")\n"
   ]
  },
  {
   "cell_type": "code",
   "execution_count": 11,
   "metadata": {},
   "outputs": [
    {
     "name": "stdout",
     "output_type": "stream",
     "text": [
      "    Id  SepalLengthCm  SepalWidthCm  PetalLengthCm  PetalWidthCm      Species\n",
      "0  1.0            5.1           NaN            1.4           0.2  Iris-setosa\n",
      "1  2.0            4.9           3.0            1.4           0.2  Iris-setosa\n",
      "2  3.0            4.7           3.2            1.3           NaN  Iris-setosa\n",
      "3  4.0            4.6           3.1            1.5           0.2  Iris-setosa\n",
      "4  5.0            5.0           3.6            1.4           0.2  Iris-setosa\n"
     ]
    }
   ],
   "source": [
    "\n",
    "# Use dynamically added methods\n",
    "pandas_df = iris.to_pandas()\n",
    "print(pandas_df.head())\n"
   ]
  },
  {
   "cell_type": "code",
   "execution_count": 12,
   "metadata": {},
   "outputs": [
    {
     "data": {
      "image/png": "[encoded data removed]",
      "text/plain": [
       "<Figure size 640x480 with 1 Axes>"
      ]
     },
     "metadata": {},
     "output_type": "display_data"
    }
   ],
   "source": [
    "iris.plot_histogram(\"SepalWidthCm\", bins=5)"
   ]
  },
  {
   "cell_type": "code",
   "execution_count": 13,
   "metadata": {},
   "outputs": [
    {
     "name": "stdout",
     "output_type": "stream",
     "text": [
      "['Id', 'SepalLengthCm', 'SepalWidthCm', 'PetalLengthCm', 'PetalWidthCm', 'Species']\n"
     ]
    }
   ],
   "source": [
    "print(iris.get_header())"
   ]
  },
  {
   "cell_type": "code",
   "execution_count": 14,
   "metadata": {},
   "outputs": [],
   "source": [
    "iris.drop_row_nan()"
   ]
  },
  {
   "cell_type": "code",
   "execution_count": 15,
   "metadata": {},
   "outputs": [
    {
     "data": {
      "image/png": "[encoded data removed]",
      "text/plain": [
       "<Figure size 640x480 with 2 Axes>"
      ]
     },
     "metadata": {},
     "output_type": "display_data"
    }
   ],
   "source": [
    "iris.plot_correlation_matrix([\"SepalLengthCm\", \"SepalWidthCm\", \"PetalLengthCm\"])"
   ]
  },
  {
   "cell_type": "code",
   "execution_count": 16,
   "metadata": {},
   "outputs": [
    {
     "data": {
      "image/png": "[encoded data removed]",
      "text/plain": [
       "<Figure size 640x480 with 1 Axes>"
      ]
     },
     "metadata": {},
     "output_type": "display_data"
    }
   ],
   "source": [
    "iris.scatter_plot(\"SepalLengthCm\", \"SepalWidthCm\")"
   ]
  },
  {
   "cell_type": "code",
   "execution_count": 17,
   "metadata": {},
   "outputs": [
    {
     "name": "stdout",
     "output_type": "stream",
     "text": [
      "Advanced Stats for 'Age': {'mean': np.float64(3.0510204081632653), 'std_dev': np.float64(0.43461881757502124), 'skewness': np.float64(0.0), 'kurtosis': np.float64(0.0)}\n"
     ]
    }
   ],
   "source": [
    "stats = iris.advanced_stat(\"SepalWidthCm\")\n",
    "print(f\"Advanced Stats for 'Age': {stats}\")\n"
   ]
  },
  {
   "cell_type": "code",
   "execution_count": 18,
   "metadata": {},
   "outputs": [
    {
     "name": "stdout",
     "output_type": "stream",
     "text": [
      "        Id  SepalLengthCm  SepalWidthCm  PetalLengthCm  PetalWidthCm  \\\n",
      "0      2.0            4.9           3.0            1.4           0.2   \n",
      "1      4.0            4.6           3.1            1.5           0.2   \n",
      "2      5.0            5.0           3.6            1.4           0.2   \n",
      "3      6.0            5.4           3.9            1.7           0.4   \n",
      "4      7.0            4.6           3.4            1.4           0.3   \n",
      "..     ...            ...           ...            ...           ...   \n",
      "142  146.0            6.7           3.0            5.2           2.3   \n",
      "143  147.0            6.3           2.5            5.0           1.9   \n",
      "144  148.0            6.5           3.0            5.2           2.0   \n",
      "145  149.0            6.2           3.4            5.4           2.3   \n",
      "146  150.0            5.9           3.0            5.1           1.8   \n",
      "\n",
      "            Species  \n",
      "0       Iris-setosa  \n",
      "1       Iris-setosa  \n",
      "2       Iris-setosa  \n",
      "3       Iris-setosa  \n",
      "4       Iris-setosa  \n",
      "..              ...  \n",
      "142  Iris-virginica  \n",
      "143  Iris-virginica  \n",
      "144  Iris-virginica  \n",
      "145  Iris-virginica  \n",
      "146  Iris-virginica  \n",
      "\n",
      "[147 rows x 6 columns]\n"
     ]
    }
   ],
   "source": [
    "print(iris)"
   ]
  },
  {
   "cell_type": "markdown",
   "metadata": {},
   "source": [
    "access using `__get_item__`"
   ]
  },
  {
   "cell_type": "code",
   "execution_count": 19,
   "metadata": {},
   "outputs": [
    {
     "name": "stdout",
     "output_type": "stream",
     "text": [
      "Iris-setosa\n",
      "Iris-setosa\n",
      "Iris-setosa\n",
      "Iris-setosa\n",
      "Iris-setosa\n",
      "Iris-setosa\n",
      "Iris-setosa\n",
      "Iris-setosa\n",
      "Iris-setosa\n",
      "Iris-setosa\n",
      "Iris-setosa\n",
      "Iris-setosa\n",
      "Iris-setosa\n",
      "Iris-setosa\n",
      "Iris-setosa\n",
      "Iris-setosa\n",
      "Iris-setosa\n",
      "Iris-setosa\n",
      "Iris-setosa\n",
      "Iris-setosa\n",
      "Iris-setosa\n",
      "Iris-setosa\n",
      "Iris-setosa\n",
      "Iris-setosa\n",
      "Iris-setosa\n",
      "Iris-setosa\n",
      "Iris-setosa\n",
      "Iris-setosa\n",
      "Iris-setosa\n",
      "Iris-setosa\n",
      "Iris-setosa\n",
      "Iris-setosa\n",
      "Iris-setosa\n",
      "Iris-setosa\n",
      "Iris-setosa\n",
      "Iris-setosa\n",
      "Iris-setosa\n",
      "Iris-setosa\n",
      "Iris-setosa\n",
      "Iris-setosa\n",
      "Iris-setosa\n",
      "Iris-setosa\n",
      "Iris-setosa\n",
      "Iris-setosa\n",
      "Iris-setosa\n",
      "Iris-setosa\n",
      "Iris-setosa\n",
      "Iris-versicolor\n",
      "Iris-versicolor\n",
      "Iris-versicolor\n",
      "Iris-versicolor\n",
      "Iris-versicolor\n",
      "Iris-versicolor\n",
      "Iris-versicolor\n",
      "Iris-versicolor\n",
      "Iris-versicolor\n",
      "Iris-versicolor\n",
      "Iris-versicolor\n",
      "Iris-versicolor\n",
      "Iris-versicolor\n",
      "Iris-versicolor\n",
      "Iris-versicolor\n",
      "Iris-versicolor\n",
      "Iris-versicolor\n",
      "Iris-versicolor\n",
      "Iris-versicolor\n",
      "Iris-versicolor\n",
      "Iris-versicolor\n",
      "Iris-versicolor\n",
      "Iris-versicolor\n",
      "Iris-versicolor\n",
      "Iris-versicolor\n",
      "Iris-versicolor\n",
      "Iris-versicolor\n",
      "Iris-versicolor\n",
      "Iris-versicolor\n",
      "Iris-versicolor\n",
      "Iris-versicolor\n",
      "Iris-versicolor\n",
      "Iris-versicolor\n",
      "Iris-versicolor\n",
      "Iris-versicolor\n",
      "Iris-versicolor\n",
      "Iris-versicolor\n",
      "Iris-versicolor\n",
      "Iris-versicolor\n",
      "Iris-versicolor\n",
      "Iris-versicolor\n",
      "Iris-versicolor\n",
      "Iris-versicolor\n",
      "Iris-versicolor\n",
      "Iris-versicolor\n",
      "Iris-versicolor\n",
      "Iris-versicolor\n",
      "Iris-versicolor\n",
      "Iris-versicolor\n",
      "Iris-versicolor\n",
      "Iris-virginica\n",
      "Iris-virginica\n",
      "Iris-virginica\n",
      "Iris-virginica\n",
      "Iris-virginica\n",
      "Iris-virginica\n",
      "Iris-virginica\n",
      "Iris-virginica\n",
      "Iris-virginica\n",
      "Iris-virginica\n",
      "Iris-virginica\n",
      "Iris-virginica\n",
      "Iris-virginica\n",
      "Iris-virginica\n",
      "Iris-virginica\n",
      "Iris-virginica\n",
      "Iris-virginica\n",
      "Iris-virginica\n",
      "Iris-virginica\n",
      "Iris-virginica\n",
      "Iris-virginica\n",
      "Iris-virginica\n",
      "Iris-virginica\n",
      "Iris-virginica\n",
      "Iris-virginica\n",
      "Iris-virginica\n",
      "Iris-virginica\n",
      "Iris-virginica\n",
      "Iris-virginica\n",
      "Iris-virginica\n",
      "Iris-virginica\n",
      "Iris-virginica\n",
      "Iris-virginica\n",
      "Iris-virginica\n",
      "Iris-virginica\n",
      "Iris-virginica\n",
      "Iris-virginica\n",
      "Iris-virginica\n",
      "Iris-virginica\n",
      "Iris-virginica\n",
      "Iris-virginica\n",
      "Iris-virginica\n",
      "Iris-virginica\n",
      "Iris-virginica\n",
      "Iris-virginica\n",
      "Iris-virginica\n",
      "Iris-virginica\n",
      "Iris-virginica\n",
      "Iris-virginica\n",
      "Iris-virginica\n"
     ]
    }
   ],
   "source": [
    "for value in iris['Species']:\n",
    "    print(value)"
   ]
  },
  {
   "cell_type": "markdown",
   "metadata": {},
   "source": [
    "testing the `row_iterator`"
   ]
  },
  {
   "cell_type": "code",
   "execution_count": 20,
   "metadata": {},
   "outputs": [
    {
     "name": "stdout",
     "output_type": "stream",
     "text": [
      "[2.0, 4.9, 3.0, 1.4, 0.2, 'Iris-setosa']\n",
      "[4.0, 4.6, 3.1, 1.5, 0.2, 'Iris-setosa']\n",
      "[5.0, 5.0, 3.6, 1.4, 0.2, 'Iris-setosa']\n",
      "[6.0, 5.4, 3.9, 1.7, 0.4, 'Iris-setosa']\n",
      "[7.0, 4.6, 3.4, 1.4, 0.3, 'Iris-setosa']\n",
      "[8.0, 5.0, 3.4, 1.5, 0.2, 'Iris-setosa']\n",
      "[10.0, 4.9, 3.1, 1.5, 0.1, 'Iris-setosa']\n",
      "[11.0, 5.4, 3.7, 1.5, 0.2, 'Iris-setosa']\n",
      "[12.0, 4.8, 3.4, 1.6, 0.2, 'Iris-setosa']\n",
      "[13.0, 4.8, 3.0, 1.4, 0.1, 'Iris-setosa']\n",
      "[14.0, 4.3, 3.0, 1.1, 0.1, 'Iris-setosa']\n",
      "[15.0, 5.8, 4.0, 1.2, 0.2, 'Iris-setosa']\n",
      "[16.0, 5.7, 4.4, 1.5, 0.4, 'Iris-setosa']\n",
      "[17.0, 5.4, 3.9, 1.3, 0.4, 'Iris-setosa']\n",
      "[18.0, 5.1, 3.5, 1.4, 0.3, 'Iris-setosa']\n",
      "[19.0, 5.7, 3.8, 1.7, 0.3, 'Iris-setosa']\n",
      "[20.0, 5.1, 3.8, 1.5, 0.3, 'Iris-setosa']\n",
      "[21.0, 5.4, 3.4, 1.7, 0.2, 'Iris-setosa']\n",
      "[22.0, 5.1, 3.7, 1.5, 0.4, 'Iris-setosa']\n",
      "[23.0, 4.6, 3.6, 1.0, 0.2, 'Iris-setosa']\n",
      "[24.0, 5.1, 3.3, 1.7, 0.5, 'Iris-setosa']\n",
      "[25.0, 4.8, 3.4, 1.9, 0.2, 'Iris-setosa']\n",
      "[26.0, 5.0, 3.0, 1.6, 0.2, 'Iris-setosa']\n",
      "[27.0, 5.0, 3.4, 1.6, 0.4, 'Iris-setosa']\n",
      "[28.0, 5.2, 3.5, 1.5, 0.2, 'Iris-setosa']\n",
      "[29.0, 5.2, 3.4, 1.4, 0.2, 'Iris-setosa']\n",
      "[30.0, 4.7, 3.2, 1.6, 0.2, 'Iris-setosa']\n",
      "[31.0, 4.8, 3.1, 1.6, 0.2, 'Iris-setosa']\n",
      "[32.0, 5.4, 3.4, 1.5, 0.4, 'Iris-setosa']\n",
      "[33.0, 5.2, 4.1, 1.5, 0.1, 'Iris-setosa']\n",
      "[34.0, 5.5, 4.2, 1.4, 0.2, 'Iris-setosa']\n",
      "[35.0, 4.9, 3.1, 1.5, 0.1, 'Iris-setosa']\n",
      "[36.0, 5.0, 3.2, 1.2, 0.2, 'Iris-setosa']\n",
      "[37.0, 5.5, 3.5, 1.3, 0.2, 'Iris-setosa']\n",
      "[38.0, 4.9, 3.1, 1.5, 0.1, 'Iris-setosa']\n",
      "[39.0, 4.4, 3.0, 1.3, 0.2, 'Iris-setosa']\n",
      "[40.0, 5.1, 3.4, 1.5, 0.2, 'Iris-setosa']\n",
      "[41.0, 5.0, 3.5, 1.3, 0.3, 'Iris-setosa']\n",
      "[42.0, 4.5, 2.3, 1.3, 0.3, 'Iris-setosa']\n",
      "[43.0, 4.4, 3.2, 1.3, 0.2, 'Iris-setosa']\n",
      "[44.0, 5.0, 3.5, 1.6, 0.6, 'Iris-setosa']\n",
      "[45.0, 5.1, 3.8, 1.9, 0.4, 'Iris-setosa']\n",
      "[46.0, 4.8, 3.0, 1.4, 0.3, 'Iris-setosa']\n",
      "[47.0, 5.1, 3.8, 1.6, 0.2, 'Iris-setosa']\n",
      "[48.0, 4.6, 3.2, 1.4, 0.2, 'Iris-setosa']\n",
      "[49.0, 5.3, 3.7, 1.5, 0.2, 'Iris-setosa']\n",
      "[50.0, 5.0, 3.3, 1.4, 0.2, 'Iris-setosa']\n",
      "[51.0, 7.0, 3.2, 4.7, 1.4, 'Iris-versicolor']\n",
      "[52.0, 6.4, 3.2, 4.5, 1.5, 'Iris-versicolor']\n",
      "[53.0, 6.9, 3.1, 4.9, 1.5, 'Iris-versicolor']\n",
      "[54.0, 5.5, 2.3, 4.0, 1.3, 'Iris-versicolor']\n",
      "[55.0, 6.5, 2.8, 4.6, 1.5, 'Iris-versicolor']\n",
      "[56.0, 5.7, 2.8, 4.5, 1.3, 'Iris-versicolor']\n",
      "[57.0, 6.3, 3.3, 4.7, 1.6, 'Iris-versicolor']\n",
      "[58.0, 4.9, 2.4, 3.3, 1.0, 'Iris-versicolor']\n",
      "[59.0, 6.6, 2.9, 4.6, 1.3, 'Iris-versicolor']\n",
      "[60.0, 5.2, 2.7, 3.9, 1.4, 'Iris-versicolor']\n",
      "[61.0, 5.0, 2.0, 3.5, 1.0, 'Iris-versicolor']\n",
      "[62.0, 5.9, 3.0, 4.2, 1.5, 'Iris-versicolor']\n",
      "[63.0, 6.0, 2.2, 4.0, 1.0, 'Iris-versicolor']\n",
      "[64.0, 6.1, 2.9, 4.7, 1.4, 'Iris-versicolor']\n",
      "[65.0, 5.6, 2.9, 3.6, 1.3, 'Iris-versicolor']\n",
      "[66.0, 6.7, 3.1, 4.4, 1.4, 'Iris-versicolor']\n",
      "[67.0, 5.6, 3.0, 4.5, 1.5, 'Iris-versicolor']\n",
      "[68.0, 5.8, 2.7, 4.1, 1.0, 'Iris-versicolor']\n",
      "[69.0, 6.2, 2.2, 4.5, 1.5, 'Iris-versicolor']\n",
      "[70.0, 5.6, 2.5, 3.9, 1.1, 'Iris-versicolor']\n",
      "[71.0, 5.9, 3.2, 4.8, 1.8, 'Iris-versicolor']\n",
      "[72.0, 6.1, 2.8, 4.0, 1.3, 'Iris-versicolor']\n",
      "[73.0, 6.3, 2.5, 4.9, 1.5, 'Iris-versicolor']\n",
      "[74.0, 6.1, 2.8, 4.7, 1.2, 'Iris-versicolor']\n",
      "[75.0, 6.4, 2.9, 4.3, 1.3, 'Iris-versicolor']\n",
      "[76.0, 6.6, 3.0, 4.4, 1.4, 'Iris-versicolor']\n",
      "[77.0, 6.8, 2.8, 4.8, 1.4, 'Iris-versicolor']\n",
      "[78.0, 6.7, 3.0, 5.0, 1.7, 'Iris-versicolor']\n",
      "[79.0, 6.0, 2.9, 4.5, 1.5, 'Iris-versicolor']\n",
      "[80.0, 5.7, 2.6, 3.5, 1.0, 'Iris-versicolor']\n",
      "[81.0, 5.5, 2.4, 3.8, 1.1, 'Iris-versicolor']\n",
      "[82.0, 5.5, 2.4, 3.7, 1.0, 'Iris-versicolor']\n",
      "[83.0, 5.8, 2.7, 3.9, 1.2, 'Iris-versicolor']\n",
      "[84.0, 6.0, 2.7, 5.1, 1.6, 'Iris-versicolor']\n",
      "[85.0, 5.4, 3.0, 4.5, 1.5, 'Iris-versicolor']\n",
      "[86.0, 6.0, 3.4, 4.5, 1.6, 'Iris-versicolor']\n",
      "[87.0, 6.7, 3.1, 4.7, 1.5, 'Iris-versicolor']\n",
      "[88.0, 6.3, 2.3, 4.4, 1.3, 'Iris-versicolor']\n",
      "[89.0, 5.6, 3.0, 4.1, 1.3, 'Iris-versicolor']\n",
      "[90.0, 5.5, 2.5, 4.0, 1.3, 'Iris-versicolor']\n",
      "[91.0, 5.5, 2.6, 4.4, 1.2, 'Iris-versicolor']\n",
      "[92.0, 6.1, 3.0, 4.6, 1.4, 'Iris-versicolor']\n",
      "[93.0, 5.8, 2.6, 4.0, 1.2, 'Iris-versicolor']\n",
      "[94.0, 5.0, 2.3, 3.3, 1.0, 'Iris-versicolor']\n",
      "[95.0, 5.6, 2.7, 4.2, 1.3, 'Iris-versicolor']\n",
      "[96.0, 5.7, 3.0, 4.2, 1.2, 'Iris-versicolor']\n",
      "[97.0, 5.7, 2.9, 4.2, 1.3, 'Iris-versicolor']\n",
      "[98.0, 6.2, 2.9, 4.3, 1.3, 'Iris-versicolor']\n",
      "[99.0, 5.1, 2.5, 3.0, 1.1, 'Iris-versicolor']\n",
      "[100.0, 5.7, 2.8, 4.1, 1.3, 'Iris-versicolor']\n",
      "[101.0, 6.3, 3.3, 6.0, 2.5, 'Iris-virginica']\n",
      "[102.0, 5.8, 2.7, 5.1, 1.9, 'Iris-virginica']\n",
      "[103.0, 7.1, 3.0, 5.9, 2.1, 'Iris-virginica']\n",
      "[104.0, 6.3, 2.9, 5.6, 1.8, 'Iris-virginica']\n",
      "[105.0, 6.5, 3.0, 5.8, 2.2, 'Iris-virginica']\n",
      "[106.0, 7.6, 3.0, 6.6, 2.1, 'Iris-virginica']\n",
      "[107.0, 4.9, 2.5, 4.5, 1.7, 'Iris-virginica']\n",
      "[108.0, 7.3, 2.9, 6.3, 1.8, 'Iris-virginica']\n",
      "[109.0, 6.7, 2.5, 5.8, 1.8, 'Iris-virginica']\n",
      "[110.0, 7.2, 3.6, 6.1, 2.5, 'Iris-virginica']\n",
      "[111.0, 6.5, 3.2, 5.1, 2.0, 'Iris-virginica']\n",
      "[112.0, 6.4, 2.7, 5.3, 1.9, 'Iris-virginica']\n",
      "[113.0, 6.8, 3.0, 5.5, 2.1, 'Iris-virginica']\n",
      "[114.0, 5.7, 2.5, 5.0, 2.0, 'Iris-virginica']\n",
      "[115.0, 5.8, 2.8, 5.1, 2.4, 'Iris-virginica']\n",
      "[116.0, 6.4, 3.2, 5.3, 2.3, 'Iris-virginica']\n",
      "[117.0, 6.5, 3.0, 5.5, 1.8, 'Iris-virginica']\n",
      "[118.0, 7.7, 3.8, 6.7, 2.2, 'Iris-virginica']\n",
      "[119.0, 7.7, 2.6, 6.9, 2.3, 'Iris-virginica']\n",
      "[120.0, 6.0, 2.2, 5.0, 1.5, 'Iris-virginica']\n",
      "[121.0, 6.9, 3.2, 5.7, 2.3, 'Iris-virginica']\n",
      "[122.0, 5.6, 2.8, 4.9, 2.0, 'Iris-virginica']\n",
      "[123.0, 7.7, 2.8, 6.7, 2.0, 'Iris-virginica']\n",
      "[124.0, 6.3, 2.7, 4.9, 1.8, 'Iris-virginica']\n",
      "[125.0, 6.7, 3.3, 5.7, 2.1, 'Iris-virginica']\n",
      "[126.0, 7.2, 3.2, 6.0, 1.8, 'Iris-virginica']\n",
      "[127.0, 6.2, 2.8, 4.8, 1.8, 'Iris-virginica']\n",
      "[128.0, 6.1, 3.0, 4.9, 1.8, 'Iris-virginica']\n",
      "[129.0, 6.4, 2.8, 5.6, 2.1, 'Iris-virginica']\n",
      "[130.0, 7.2, 3.0, 5.8, 1.6, 'Iris-virginica']\n",
      "[131.0, 7.4, 2.8, 6.1, 1.9, 'Iris-virginica']\n",
      "[132.0, 7.9, 3.8, 6.4, 2.0, 'Iris-virginica']\n",
      "[133.0, 6.4, 2.8, 5.6, 2.2, 'Iris-virginica']\n",
      "[134.0, 6.3, 2.8, 5.1, 1.5, 'Iris-virginica']\n",
      "[135.0, 6.1, 2.6, 5.6, 1.4, 'Iris-virginica']\n",
      "[136.0, 7.7, 3.0, 6.1, 2.3, 'Iris-virginica']\n",
      "[137.0, 6.3, 3.4, 5.6, 2.4, 'Iris-virginica']\n",
      "[138.0, 6.4, 3.1, 5.5, 1.8, 'Iris-virginica']\n",
      "[139.0, 6.0, 3.0, 4.8, 1.8, 'Iris-virginica']\n",
      "[140.0, 6.9, 3.1, 5.4, 2.1, 'Iris-virginica']\n",
      "[141.0, 6.7, 3.1, 5.6, 2.4, 'Iris-virginica']\n",
      "[142.0, 6.9, 3.1, 5.1, 2.3, 'Iris-virginica']\n",
      "[143.0, 5.8, 2.7, 5.1, 1.9, 'Iris-virginica']\n",
      "[144.0, 6.8, 3.2, 5.9, 2.3, 'Iris-virginica']\n",
      "[145.0, 6.7, 3.3, 5.7, 2.5, 'Iris-virginica']\n",
      "[146.0, 6.7, 3.0, 5.2, 2.3, 'Iris-virginica']\n",
      "[147.0, 6.3, 2.5, 5.0, 1.9, 'Iris-virginica']\n",
      "[148.0, 6.5, 3.0, 5.2, 2.0, 'Iris-virginica']\n",
      "[149.0, 6.2, 3.4, 5.4, 2.3, 'Iris-virginica']\n",
      "[150.0, 5.9, 3.0, 5.1, 1.8, 'Iris-virginica']\n"
     ]
    }
   ],
   "source": [
    "for row in iris:\n",
    "    print(row)"
   ]
  },
  {
   "cell_type": "code",
   "execution_count": 21,
   "metadata": {},
   "outputs": [
    {
     "name": "stdout",
     "output_type": "stream",
     "text": [
      "[2.0, 4.9, 3.0, 1.4, 0.2, 'Iris-setosa']\n",
      "[4.0, 4.6, 3.1, 1.5, 0.2, 'Iris-setosa']\n",
      "[5.0, 5.0, 3.6, 1.4, 0.2, 'Iris-setosa']\n",
      "[6.0, 5.4, 3.9, 1.7, 0.4, 'Iris-setosa']\n",
      "[7.0, 4.6, 3.4, 1.4, 0.3, 'Iris-setosa']\n"
     ]
    }
   ],
   "source": [
    "# Get an iterator for the iris DataFrame\n",
    "iris_iterator = iter(iris)\n",
    "\n",
    "# Iterate over the first 5 rows and print them\n",
    "for _ in range(5):\n",
    "    row = next(iris_iterator)\n",
    "    print(row)"
   ]
  },
  {
   "cell_type": "code",
   "execution_count": 22,
   "metadata": {},
   "outputs": [
    {
     "name": "stdout",
     "output_type": "stream",
     "text": [
      "Column: Id\n",
      "[2.0, 4.0, 5.0, 6.0, 7.0, 8.0, 10.0, 11.0, 12.0, 13.0, 14.0, 15.0, 16.0, 17.0, 18.0, 19.0, 20.0, 21.0, 22.0, 23.0, 24.0, 25.0, 26.0, 27.0, 28.0, 29.0, 30.0, 31.0, 32.0, 33.0, 34.0, 35.0, 36.0, 37.0, 38.0, 39.0, 40.0, 41.0, 42.0, 43.0, 44.0, 45.0, 46.0, 47.0, 48.0, 49.0, 50.0, 51.0, 52.0, 53.0, 54.0, 55.0, 56.0, 57.0, 58.0, 59.0, 60.0, 61.0, 62.0, 63.0, 64.0, 65.0, 66.0, 67.0, 68.0, 69.0, 70.0, 71.0, 72.0, 73.0, 74.0, 75.0, 76.0, 77.0, 78.0, 79.0, 80.0, 81.0, 82.0, 83.0, 84.0, 85.0, 86.0, 87.0, 88.0, 89.0, 90.0, 91.0, 92.0, 93.0, 94.0, 95.0, 96.0, 97.0, 98.0, 99.0, 100.0, 101.0, 102.0, 103.0, 104.0, 105.0, 106.0, 107.0, 108.0, 109.0, 110.0, 111.0, 112.0, 113.0, 114.0, 115.0, 116.0, 117.0, 118.0, 119.0, 120.0, 121.0, 122.0, 123.0, 124.0, 125.0, 126.0, 127.0, 128.0, 129.0, 130.0, 131.0, 132.0, 133.0, 134.0, 135.0, 136.0, 137.0, 138.0, 139.0, 140.0, 141.0, 142.0, 143.0, 144.0, 145.0, 146.0, 147.0, 148.0, 149.0, 150.0]\n",
      "Column: SepalLengthCm\n",
      "[4.9, 4.6, 5.0, 5.4, 4.6, 5.0, 4.9, 5.4, 4.8, 4.8, 4.3, 5.8, 5.7, 5.4, 5.1, 5.7, 5.1, 5.4, 5.1, 4.6, 5.1, 4.8, 5.0, 5.0, 5.2, 5.2, 4.7, 4.8, 5.4, 5.2, 5.5, 4.9, 5.0, 5.5, 4.9, 4.4, 5.1, 5.0, 4.5, 4.4, 5.0, 5.1, 4.8, 5.1, 4.6, 5.3, 5.0, 7.0, 6.4, 6.9, 5.5, 6.5, 5.7, 6.3, 4.9, 6.6, 5.2, 5.0, 5.9, 6.0, 6.1, 5.6, 6.7, 5.6, 5.8, 6.2, 5.6, 5.9, 6.1, 6.3, 6.1, 6.4, 6.6, 6.8, 6.7, 6.0, 5.7, 5.5, 5.5, 5.8, 6.0, 5.4, 6.0, 6.7, 6.3, 5.6, 5.5, 5.5, 6.1, 5.8, 5.0, 5.6, 5.7, 5.7, 6.2, 5.1, 5.7, 6.3, 5.8, 7.1, 6.3, 6.5, 7.6, 4.9, 7.3, 6.7, 7.2, 6.5, 6.4, 6.8, 5.7, 5.8, 6.4, 6.5, 7.7, 7.7, 6.0, 6.9, 5.6, 7.7, 6.3, 6.7, 7.2, 6.2, 6.1, 6.4, 7.2, 7.4, 7.9, 6.4, 6.3, 6.1, 7.7, 6.3, 6.4, 6.0, 6.9, 6.7, 6.9, 5.8, 6.8, 6.7, 6.7, 6.3, 6.5, 6.2, 5.9]\n",
      "Column: SepalWidthCm\n",
      "[3.0, 3.1, 3.6, 3.9, 3.4, 3.4, 3.1, 3.7, 3.4, 3.0, 3.0, 4.0, 4.4, 3.9, 3.5, 3.8, 3.8, 3.4, 3.7, 3.6, 3.3, 3.4, 3.0, 3.4, 3.5, 3.4, 3.2, 3.1, 3.4, 4.1, 4.2, 3.1, 3.2, 3.5, 3.1, 3.0, 3.4, 3.5, 2.3, 3.2, 3.5, 3.8, 3.0, 3.8, 3.2, 3.7, 3.3, 3.2, 3.2, 3.1, 2.3, 2.8, 2.8, 3.3, 2.4, 2.9, 2.7, 2.0, 3.0, 2.2, 2.9, 2.9, 3.1, 3.0, 2.7, 2.2, 2.5, 3.2, 2.8, 2.5, 2.8, 2.9, 3.0, 2.8, 3.0, 2.9, 2.6, 2.4, 2.4, 2.7, 2.7, 3.0, 3.4, 3.1, 2.3, 3.0, 2.5, 2.6, 3.0, 2.6, 2.3, 2.7, 3.0, 2.9, 2.9, 2.5, 2.8, 3.3, 2.7, 3.0, 2.9, 3.0, 3.0, 2.5, 2.9, 2.5, 3.6, 3.2, 2.7, 3.0, 2.5, 2.8, 3.2, 3.0, 3.8, 2.6, 2.2, 3.2, 2.8, 2.8, 2.7, 3.3, 3.2, 2.8, 3.0, 2.8, 3.0, 2.8, 3.8, 2.8, 2.8, 2.6, 3.0, 3.4, 3.1, 3.0, 3.1, 3.1, 3.1, 2.7, 3.2, 3.3, 3.0, 2.5, 3.0, 3.4, 3.0]\n",
      "Column: PetalLengthCm\n",
      "[1.4, 1.5, 1.4, 1.7, 1.4, 1.5, 1.5, 1.5, 1.6, 1.4, 1.1, 1.2, 1.5, 1.3, 1.4, 1.7, 1.5, 1.7, 1.5, 1.0, 1.7, 1.9, 1.6, 1.6, 1.5, 1.4, 1.6, 1.6, 1.5, 1.5, 1.4, 1.5, 1.2, 1.3, 1.5, 1.3, 1.5, 1.3, 1.3, 1.3, 1.6, 1.9, 1.4, 1.6, 1.4, 1.5, 1.4, 4.7, 4.5, 4.9, 4.0, 4.6, 4.5, 4.7, 3.3, 4.6, 3.9, 3.5, 4.2, 4.0, 4.7, 3.6, 4.4, 4.5, 4.1, 4.5, 3.9, 4.8, 4.0, 4.9, 4.7, 4.3, 4.4, 4.8, 5.0, 4.5, 3.5, 3.8, 3.7, 3.9, 5.1, 4.5, 4.5, 4.7, 4.4, 4.1, 4.0, 4.4, 4.6, 4.0, 3.3, 4.2, 4.2, 4.2, 4.3, 3.0, 4.1, 6.0, 5.1, 5.9, 5.6, 5.8, 6.6, 4.5, 6.3, 5.8, 6.1, 5.1, 5.3, 5.5, 5.0, 5.1, 5.3, 5.5, 6.7, 6.9, 5.0, 5.7, 4.9, 6.7, 4.9, 5.7, 6.0, 4.8, 4.9, 5.6, 5.8, 6.1, 6.4, 5.6, 5.1, 5.6, 6.1, 5.6, 5.5, 4.8, 5.4, 5.6, 5.1, 5.1, 5.9, 5.7, 5.2, 5.0, 5.2, 5.4, 5.1]\n",
      "Column: PetalWidthCm\n",
      "[0.2, 0.2, 0.2, 0.4, 0.3, 0.2, 0.1, 0.2, 0.2, 0.1, 0.1, 0.2, 0.4, 0.4, 0.3, 0.3, 0.3, 0.2, 0.4, 0.2, 0.5, 0.2, 0.2, 0.4, 0.2, 0.2, 0.2, 0.2, 0.4, 0.1, 0.2, 0.1, 0.2, 0.2, 0.1, 0.2, 0.2, 0.3, 0.3, 0.2, 0.6, 0.4, 0.3, 0.2, 0.2, 0.2, 0.2, 1.4, 1.5, 1.5, 1.3, 1.5, 1.3, 1.6, 1.0, 1.3, 1.4, 1.0, 1.5, 1.0, 1.4, 1.3, 1.4, 1.5, 1.0, 1.5, 1.1, 1.8, 1.3, 1.5, 1.2, 1.3, 1.4, 1.4, 1.7, 1.5, 1.0, 1.1, 1.0, 1.2, 1.6, 1.5, 1.6, 1.5, 1.3, 1.3, 1.3, 1.2, 1.4, 1.2, 1.0, 1.3, 1.2, 1.3, 1.3, 1.1, 1.3, 2.5, 1.9, 2.1, 1.8, 2.2, 2.1, 1.7, 1.8, 1.8, 2.5, 2.0, 1.9, 2.1, 2.0, 2.4, 2.3, 1.8, 2.2, 2.3, 1.5, 2.3, 2.0, 2.0, 1.8, 2.1, 1.8, 1.8, 1.8, 2.1, 1.6, 1.9, 2.0, 2.2, 1.5, 1.4, 2.3, 2.4, 1.8, 1.8, 2.1, 2.4, 2.3, 1.9, 2.3, 2.5, 2.3, 1.9, 2.0, 2.3, 1.8]\n",
      "Column: Species\n",
      "['Iris-setosa', 'Iris-setosa', 'Iris-setosa', 'Iris-setosa', 'Iris-setosa', 'Iris-setosa', 'Iris-setosa', 'Iris-setosa', 'Iris-setosa', 'Iris-setosa', 'Iris-setosa', 'Iris-setosa', 'Iris-setosa', 'Iris-setosa', 'Iris-setosa', 'Iris-setosa', 'Iris-setosa', 'Iris-setosa', 'Iris-setosa', 'Iris-setosa', 'Iris-setosa', 'Iris-setosa', 'Iris-setosa', 'Iris-setosa', 'Iris-setosa', 'Iris-setosa', 'Iris-setosa', 'Iris-setosa', 'Iris-setosa', 'Iris-setosa', 'Iris-setosa', 'Iris-setosa', 'Iris-setosa', 'Iris-setosa', 'Iris-setosa', 'Iris-setosa', 'Iris-setosa', 'Iris-setosa', 'Iris-setosa', 'Iris-setosa', 'Iris-setosa', 'Iris-setosa', 'Iris-setosa', 'Iris-setosa', 'Iris-setosa', 'Iris-setosa', 'Iris-setosa', 'Iris-versicolor', 'Iris-versicolor', 'Iris-versicolor', 'Iris-versicolor', 'Iris-versicolor', 'Iris-versicolor', 'Iris-versicolor', 'Iris-versicolor', 'Iris-versicolor', 'Iris-versicolor', 'Iris-versicolor', 'Iris-versicolor', 'Iris-versicolor', 'Iris-versicolor', 'Iris-versicolor', 'Iris-versicolor', 'Iris-versicolor', 'Iris-versicolor', 'Iris-versicolor', 'Iris-versicolor', 'Iris-versicolor', 'Iris-versicolor', 'Iris-versicolor', 'Iris-versicolor', 'Iris-versicolor', 'Iris-versicolor', 'Iris-versicolor', 'Iris-versicolor', 'Iris-versicolor', 'Iris-versicolor', 'Iris-versicolor', 'Iris-versicolor', 'Iris-versicolor', 'Iris-versicolor', 'Iris-versicolor', 'Iris-versicolor', 'Iris-versicolor', 'Iris-versicolor', 'Iris-versicolor', 'Iris-versicolor', 'Iris-versicolor', 'Iris-versicolor', 'Iris-versicolor', 'Iris-versicolor', 'Iris-versicolor', 'Iris-versicolor', 'Iris-versicolor', 'Iris-versicolor', 'Iris-versicolor', 'Iris-versicolor', 'Iris-virginica', 'Iris-virginica', 'Iris-virginica', 'Iris-virginica', 'Iris-virginica', 'Iris-virginica', 'Iris-virginica', 'Iris-virginica', 'Iris-virginica', 'Iris-virginica', 'Iris-virginica', 'Iris-virginica', 'Iris-virginica', 'Iris-virginica', 'Iris-virginica', 'Iris-virginica', 'Iris-virginica', 'Iris-virginica', 'Iris-virginica', 'Iris-virginica', 'Iris-virginica', 'Iris-virginica', 'Iris-virginica', 'Iris-virginica', 'Iris-virginica', 'Iris-virginica', 'Iris-virginica', 'Iris-virginica', 'Iris-virginica', 'Iris-virginica', 'Iris-virginica', 'Iris-virginica', 'Iris-virginica', 'Iris-virginica', 'Iris-virginica', 'Iris-virginica', 'Iris-virginica', 'Iris-virginica', 'Iris-virginica', 'Iris-virginica', 'Iris-virginica', 'Iris-virginica', 'Iris-virginica', 'Iris-virginica', 'Iris-virginica', 'Iris-virginica', 'Iris-virginica', 'Iris-virginica', 'Iris-virginica', 'Iris-virginica']\n"
     ]
    }
   ],
   "source": [
    "for column in iris.get_header():\n",
    "    print(f\"Column: {column}\")\n",
    "    print(iris[column])"
   ]
  },
  {
   "cell_type": "code",
   "execution_count": 23,
   "metadata": {},
   "outputs": [
    {
     "data": {
      "text/plain": [
       "array([4.9, 4.6, 5. , 5.4, 4.6, 5. , 4.9, 5.4, 4.8, 4.8, 4.3, 5.8, 5.7,\n",
       "       5.4, 5.1, 5.7, 5.1, 5.4, 5.1, 4.6, 5.1, 4.8, 5. , 5. , 5.2, 5.2,\n",
       "       4.7, 4.8, 5.4, 5.2, 5.5, 4.9, 5. , 5.5, 4.9, 4.4, 5.1, 5. , 4.5,\n",
       "       4.4, 5. , 5.1, 4.8, 5.1, 4.6, 5.3, 5. , 7. , 6.4, 6.9, 5.5, 6.5,\n",
       "       5.7, 6.3, 4.9, 6.6, 5.2, 5. , 5.9, 6. , 6.1, 5.6, 6.7, 5.6, 5.8,\n",
       "       6.2, 5.6, 5.9, 6.1, 6.3, 6.1, 6.4, 6.6, 6.8, 6.7, 6. , 5.7, 5.5,\n",
       "       5.5, 5.8, 6. , 5.4, 6. , 6.7, 6.3, 5.6, 5.5, 5.5, 6.1, 5.8, 5. ,\n",
       "       5.6, 5.7, 5.7, 6.2, 5.1, 5.7, 6.3, 5.8, 7.1, 6.3, 6.5, 7.6, 4.9,\n",
       "       7.3, 6.7, 7.2, 6.5, 6.4, 6.8, 5.7, 5.8, 6.4, 6.5, 7.7, 7.7, 6. ,\n",
       "       6.9, 5.6, 7.7, 6.3, 6.7, 7.2, 6.2, 6.1, 6.4, 7.2, 7.4, 7.9, 6.4,\n",
       "       6.3, 6.1, 7.7, 6.3, 6.4, 6. , 6.9, 6.7, 6.9, 5.8, 6.8, 6.7, 6.7,\n",
       "       6.3, 6.5, 6.2, 5.9])"
      ]
     },
     "execution_count": 23,
     "metadata": {},
     "output_type": "execute_result"
    }
   ],
   "source": [
    "iris.to_np_array(\"SepalLengthCm\")"
   ]
  }
 ],
 "metadata": {
  "kernelspec": {
   "display_name": "base",
   "language": "python",
   "name": "python3"
  },
  "language_info": {
   "codemirror_mode": {
    "name": "ipython",
    "version": 3
   },
   "file_extension": ".py",
   "mimetype": "text/x-python",
   "name": "python",
   "nbconvert_exporter": "python",
   "pygments_lexer": "ipython3",
   "version": "3.12.2"
  }
 },
 "nbformat": 4,
 "nbformat_minor": 2
}
