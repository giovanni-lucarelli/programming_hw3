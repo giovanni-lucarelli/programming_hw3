{
 "cells": [
  {
   "cell_type": "code",
   "execution_count": 1,
   "metadata": {},
   "outputs": [],
   "source": [
    "import sys\n",
    "sys.path.append('../build')\n",
    "import data_frame as df"
   ]
  },
  {
   "cell_type": "markdown",
   "metadata": {},
   "source": [
    "# Using the C++ module"
   ]
  },
  {
   "cell_type": "code",
   "execution_count": 2,
   "metadata": {},
   "outputs": [],
   "source": [
    "iris = df.DataFrame()\n",
    "\n",
    "iris.read_csv('../datasets/iris.csv')"
   ]
  },
  {
   "cell_type": "code",
   "execution_count": 3,
   "metadata": {},
   "outputs": [
    {
     "name": "stdout",
     "output_type": "stream",
     "text": [
      "----------------------------------------- Dataset Head -----------------------------------------\n",
      "Id              SepalLengthCm   SepalWidthCm    PetalLengthCm   PetalWidthCm    Species         \n",
      "1               5.1             nan             1.4             0.2             Iris-setosa     \n",
      "2               4.9             3               1.4             0.2             Iris-setosa     \n",
      "3               4.7             3.2             1.3             nan             Iris-setosa     \n",
      "4               4.6             3.1             1.5             0.2             Iris-setosa     \n",
      "5               5               3.6             1.4             0.2             Iris-setosa     \n",
      "------------------------------------------------------------------------------------------------\n"
     ]
    }
   ],
   "source": [
    "iris.head()"
   ]
  },
  {
   "cell_type": "code",
   "execution_count": 4,
   "metadata": {},
   "outputs": [
    {
     "name": "stdout",
     "output_type": "stream",
     "text": [
      "Help on method head in module data_frame:\n",
      "\n",
      "head(...) method of data_frame.DataFrame instance\n",
      "    head(self: data_frame.DataFrame) -> None\n",
      "\n",
      "    Print the first 5 rows of the dataframe\n",
      "\n",
      "                Parameters:\n",
      "                    None\n",
      "\n"
     ]
    }
   ],
   "source": [
    "help(iris.head)"
   ]
  },
  {
   "cell_type": "markdown",
   "metadata": {},
   "source": [
    "## Part 2"
   ]
  },
  {
   "cell_type": "code",
   "execution_count": 5,
   "metadata": {},
   "outputs": [
    {
     "name": "stdout",
     "output_type": "stream",
     "text": [
      "Id              0               \n",
      "SepalLengthCm   0               \n",
      "SepalWidthCm    2               \n",
      "PetalLengthCm   0               \n",
      "PetalWidthCm    1               \n",
      "Species         0               \n"
     ]
    }
   ],
   "source": [
    "iris.table_nan()\n",
    "iris.drop_row_nan()\n",
    "iris.drop_col('Species')\n"
   ]
  },
  {
   "cell_type": "code",
   "execution_count": 6,
   "metadata": {},
   "outputs": [
    {
     "name": "stdout",
     "output_type": "stream",
     "text": [
      "--------------------------------- Dataset Head ---------------------------------\n",
      "Id              SepalLengthCm   SepalWidthCm    PetalLengthCm   PetalWidthCm    \n",
      "2               4.9             3               1.4             0.2             \n",
      "4               4.6             3.1             1.5             0.2             \n",
      "5               5               3.6             1.4             0.2             \n",
      "6               5.4             3.9             1.7             0.4             \n",
      "7               4.6             3.4             1.4             0.3             \n",
      "--------------------------------------------------------------------------------\n"
     ]
    }
   ],
   "source": [
    "\n",
    "iris.head()"
   ]
  },
  {
   "cell_type": "code",
   "execution_count": 7,
   "metadata": {},
   "outputs": [
    {
     "name": "stdout",
     "output_type": "stream",
     "text": [
      "Processing row: [1.0000000000000002, 0.7054589754246875, -0.3984031067040775, 0.877983450009377, 0.8962933604785313]\n",
      "Processing row: [0.7054589754246875, 1.0, -0.1065970069187184, 0.8678615651845311, 0.812175360916366]\n",
      "Processing row: [-0.3984031067040775, -0.1065970069187184, 1.0, -0.4209767050059773, -0.3553290376463929]\n",
      "Processing row: [0.877983450009377, 0.8678615651845311, -0.4209767050059773, 0.9999999999999999, 0.9613790948476507]\n",
      "Processing row: [0.8962933604785313, 0.812175360916366, -0.3553290376463929, 0.9613790948476507, 1.0]\n"
     ]
    }
   ],
   "source": [
    "# Define a Python callback function\n",
    "def process_row(row):\n",
    "    print(f\"Processing row: {row}\")\n",
    "\n",
    "# Use the callback\n",
    "iris.calculate_correlation_with_callback(process_row)\n"
   ]
  },
  {
   "cell_type": "code",
   "execution_count": 8,
   "metadata": {},
   "outputs": [
    {
     "name": "stdout",
     "output_type": "stream",
     "text": [
      "Pandas Time: 0.027285099029541016\n",
      "C++ with callbacks Time: 1.8060598373413086\n",
      "C++ without callbacks Time: 1.4644951820373535\n"
     ]
    }
   ],
   "source": [
    "import time\n",
    "import numpy as np\n",
    "import pandas as pd\n",
    "\n",
    "# Data preparation\n",
    "data = np.random.rand(1000, 100)\n",
    "np.savetxt(\"large_dataset.csv\", data, delimiter=\",\")\n",
    "df_cpp = df.DataFrame()\n",
    "df_cpp.read_csv(\"large_dataset.csv\", \",\", False)  \n",
    "\n",
    "# Using Pandas\n",
    "start = time.time()\n",
    "df_pd = pd.DataFrame(data)\n",
    "correlation_pd = df_pd.corr()\n",
    "print(\"Pandas Time:\", time.time() - start)\n",
    "\n",
    "# Using C++ with callbacks\n",
    "start = time.time()\n",
    "df_cpp.calculate_correlation_with_callback(lambda row: None)  # No-op callback\n",
    "print(\"C++ with callbacks Time:\", time.time() - start)\n",
    "\n",
    "# Using C++ without callbacks\n",
    "start = time.time()\n",
    "df_cpp.calculate_correlation() \n",
    "print(\"C++ without callbacks Time:\", time.time() - start)\n"
   ]
  }
 ],
 "metadata": {
  "kernelspec": {
   "display_name": "base",
   "language": "python",
   "name": "python3"
  },
  "language_info": {
   "codemirror_mode": {
    "name": "ipython",
    "version": 3
   },
   "file_extension": ".py",
   "mimetype": "text/x-python",
   "name": "python",
   "nbconvert_exporter": "python",
   "pygments_lexer": "ipython3",
   "version": "3.12.2"
  }
 },
 "nbformat": 4,
 "nbformat_minor": 2
}
