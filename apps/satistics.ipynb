{
 "cells": [
  {
   "cell_type": "code",
   "execution_count": 1,
   "metadata": {},
   "outputs": [],
   "source": [
    "import sys\n",
    "sys.path.append('../build')\n",
    "import data_frame as df"
   ]
  },
  {
   "cell_type": "code",
   "execution_count": 3,
   "metadata": {},
   "outputs": [],
   "source": [
    "iris = df.DataFrame()\n",
    "\n",
    "iris.read_csv('../datasets/iris.csv')"
   ]
  },
  {
   "cell_type": "code",
   "execution_count": 5,
   "metadata": {},
   "outputs": [
    {
     "name": "stdout",
     "output_type": "stream",
     "text": [
      "----------------------------------------- Dataset Head -----------------------------------------\n",
      "Id              SepalLengthCm   SepalWidthCm    PetalLengthCm   PetalWidthCm    Species         \n",
      "1               5.1             nan             1.4             0.2             Iris-setosa     \n",
      "2               4.9             3               1.4             0.2             Iris-setosa     \n",
      "3               4.7             3.2             1.3             nan             Iris-setosa     \n",
      "4               4.6             3.1             1.5             0.2             Iris-setosa     \n",
      "5               5               3.6             1.4             0.2             Iris-setosa     \n",
      "------------------------------------------------------------------------------------------------\n"
     ]
    }
   ],
   "source": [
    "iris.head()"
   ]
  }
 ],
 "metadata": {
  "kernelspec": {
   "display_name": "base",
   "language": "python",
   "name": "python3"
  },
  "language_info": {
   "codemirror_mode": {
    "name": "ipython",
    "version": 3
   },
   "file_extension": ".py",
   "mimetype": "text/x-python",
   "name": "python",
   "nbconvert_exporter": "python",
   "pygments_lexer": "ipython3",
   "version": "3.12.2"
  }
 },
 "nbformat": 4,
 "nbformat_minor": 2
}
