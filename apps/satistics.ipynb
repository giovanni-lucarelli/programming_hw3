{
 "cells": [
  {
   "cell_type": "markdown",
   "metadata": {},
   "source": [
    "# Importing the package"
   ]
  },
  {
   "cell_type": "code",
   "execution_count": null,
   "metadata": {},
   "outputs": [],
   "source": [
    "from pytoolbox.dataframe import DataFrame"
   ]
  },
  {
   "cell_type": "markdown",
   "metadata": {},
   "source": [
    "DataFrame class documentation"
   ]
  },
  {
   "cell_type": "code",
   "execution_count": null,
   "metadata": {},
   "outputs": [],
   "source": [
    "help(DataFrame)"
   ]
  },
  {
   "cell_type": "markdown",
   "metadata": {},
   "source": [
    "# Examples of Usage"
   ]
  },
  {
   "cell_type": "markdown",
   "metadata": {},
   "source": [
    "## C++ Binded Methods"
   ]
  },
  {
   "cell_type": "code",
   "execution_count": null,
   "metadata": {},
   "outputs": [],
   "source": [
    "iris = DataFrame()\n",
    "\n",
    "iris.read_csv('../datasets/iris.csv')\n"
   ]
  },
  {
   "cell_type": "code",
   "execution_count": null,
   "metadata": {},
   "outputs": [],
   "source": [
    "iris.head()"
   ]
  },
  {
   "cell_type": "code",
   "execution_count": null,
   "metadata": {},
   "outputs": [],
   "source": [
    "iris.table_nan()\n",
    "iris.drop_row_nan()\n"
   ]
  },
  {
   "cell_type": "code",
   "execution_count": null,
   "metadata": {},
   "outputs": [],
   "source": [
    "iris.table_nan()"
   ]
  },
  {
   "cell_type": "markdown",
   "metadata": {},
   "source": [
    "## New  Python Methods"
   ]
  },
  {
   "cell_type": "code",
   "execution_count": null,
   "metadata": {},
   "outputs": [],
   "source": [
    "print(iris)"
   ]
  },
  {
   "cell_type": "code",
   "execution_count": null,
   "metadata": {},
   "outputs": [],
   "source": [
    "help(iris.head)"
   ]
  },
  {
   "cell_type": "code",
   "execution_count": null,
   "metadata": {},
   "outputs": [],
   "source": [
    "# Use dynamically added methods\n",
    "pandas_df = iris.to_pandas()\n",
    "pandas_df.head()\n"
   ]
  },
  {
   "cell_type": "code",
   "execution_count": null,
   "metadata": {},
   "outputs": [],
   "source": [
    "iris.plot_histogram(\"SepalWidthCm\", bins=5)"
   ]
  },
  {
   "cell_type": "code",
   "execution_count": null,
   "metadata": {},
   "outputs": [],
   "source": [
    "print(iris.get_header())"
   ]
  },
  {
   "cell_type": "code",
   "execution_count": null,
   "metadata": {},
   "outputs": [],
   "source": [
    "# remember that it is not possible to compute the correlation if nans are present\n",
    "\n",
    "iris.drop_row_nan()\n",
    "\n",
    "iris.plot_correlation_matrix([\"SepalLengthCm\", \"SepalWidthCm\", \"PetalLengthCm\"])"
   ]
  },
  {
   "cell_type": "code",
   "execution_count": null,
   "metadata": {},
   "outputs": [],
   "source": [
    "iris.scatter_plot(\"SepalLengthCm\", \"SepalWidthCm\")"
   ]
  },
  {
   "cell_type": "code",
   "execution_count": null,
   "metadata": {},
   "outputs": [],
   "source": [
    "stats = iris.advanced_stat(\"SepalWidthCm\")\n",
    "print(f\"Advanced Stats for 'Age': {stats}\")\n"
   ]
  },
  {
   "cell_type": "code",
   "execution_count": null,
   "metadata": {},
   "outputs": [],
   "source": [
    "iris.to_np_array(\"SepalLengthCm\")"
   ]
  },
  {
   "cell_type": "markdown",
   "metadata": {},
   "source": [
    "access column using `__get_item__`"
   ]
  },
  {
   "cell_type": "code",
   "execution_count": null,
   "metadata": {},
   "outputs": [],
   "source": [
    "for value in iris['Species']:\n",
    "    print(value)"
   ]
  },
  {
   "cell_type": "markdown",
   "metadata": {},
   "source": [
    "Possible use cases of `row_iterator`"
   ]
  },
  {
   "cell_type": "code",
   "execution_count": null,
   "metadata": {},
   "outputs": [],
   "source": [
    "for row in iris:\n",
    "    print(row)"
   ]
  },
  {
   "cell_type": "code",
   "execution_count": null,
   "metadata": {},
   "outputs": [],
   "source": [
    "# Get an iterator for the iris DataFrame\n",
    "iris_iterator = iter(iris)\n",
    "\n",
    "# Iterate over the first 5 rows and print them\n",
    "for _ in range(5):\n",
    "    row = next(iris_iterator)\n",
    "    print(row)"
   ]
  },
  {
   "cell_type": "markdown",
   "metadata": {},
   "source": [
    "`__len__` method"
   ]
  },
  {
   "cell_type": "code",
   "execution_count": null,
   "metadata": {},
   "outputs": [],
   "source": [
    "len(iris)"
   ]
  },
  {
   "cell_type": "markdown",
   "metadata": {},
   "source": [
    "# Testing Callbacks"
   ]
  },
  {
   "cell_type": "code",
   "execution_count": null,
   "metadata": {},
   "outputs": [],
   "source": [
    "import time\n",
    "import numpy as np\n",
    "import pandas as pd"
   ]
  },
  {
   "cell_type": "markdown",
   "metadata": {},
   "source": [
    "The `DataFrame::calculate_correlation_with_callback` method allows us to calculate the correlations between columns in a DataFrame while leveraging a user-defined callback function. \n",
    "\n",
    "In this example, we define a Python callback function, `process_row`, which simply prints each row of the correlation matrix as it is computed. We then pass this function as an argument to the `calculate_correlation_with_callback` method. The C++ implementation ensures that the Python callback is invoked for each row of the correlation matrix, making it easy to handle the results dynamically."
   ]
  },
  {
   "cell_type": "code",
   "execution_count": null,
   "metadata": {},
   "outputs": [],
   "source": [
    "# Define a Python callback function\n",
    "def process_row(row):\n",
    "    print(f\"Processing row: {row}\")\n",
    "\n",
    "# Use the callback\n",
    "\n",
    "iris2 = DataFrame()\n",
    "iris2.read_csv('../datasets/iris.csv')\n",
    "iris2.drop_row_nan()\n",
    "iris2.drop_col(\"Species\")\n",
    "iris2.calculate_correlation_with_callback(process_row)"
   ]
  },
  {
   "cell_type": "markdown",
   "metadata": {},
   "source": [
    "Let's now measure how much time is required to do the same computation, on a synthetic large dataset, using:\n",
    "\n",
    "1. Pandas method\n",
    "2. C++ method with callback\n",
    "3. C++ method without callback"
   ]
  },
  {
   "cell_type": "code",
   "execution_count": null,
   "metadata": {},
   "outputs": [],
   "source": [
    "# Data preparation\n",
    "n_rows = 1000\n",
    "n_cols = 100\n",
    "\n",
    "data = np.random.rand(n_rows, n_cols)\n",
    "\n",
    "# Convert to C++ DataFrame\n",
    "df_cpp = DataFrame()\n",
    "\n",
    "for i in range(n_cols):\n",
    "    df_cpp.add_column(f'col_{i}', data[:, i].tolist())\n",
    "\n",
    "# Convert to Pandas DataFrame\n",
    "df_pd = pd.DataFrame(data)"
   ]
  },
  {
   "cell_type": "code",
   "execution_count": null,
   "metadata": {},
   "outputs": [],
   "source": [
    "\n",
    "# Convert to Pandas DataFrame\n",
    "df_pd = pd.DataFrame(data)"
   ]
  },
  {
   "cell_type": "code",
   "execution_count": null,
   "metadata": {},
   "outputs": [],
   "source": [
    "# Using Pandas\n",
    "start = time.time()\n",
    "correlation_pd = df_pd.corr()\n",
    "print(\"Pandas Time:\", time.time() - start)\n",
    "\n",
    "# Using C++ with callbacks\n",
    "start = time.time()\n",
    "df_cpp.calculate_correlation_with_callback(lambda row: None)  # No-op callback\n",
    "print(\"C++ with callbacks Time:\", time.time() - start)\n",
    "\n",
    "# Using C++ without callbacks\n",
    "start = time.time()\n",
    "df_cpp.calculate_correlation() \n",
    "print(\"C++ without callbacks Time:\", time.time() - start)\n"
   ]
  }
 ],
 "metadata": {
  "kernelspec": {
   "display_name": ".venv",
   "language": "python",
   "name": "python3"
  },
  "language_info": {
   "codemirror_mode": {
    "name": "ipython",
    "version": 3
   },
   "file_extension": ".py",
   "mimetype": "text/x-python",
   "name": "python",
   "nbconvert_exporter": "python",
   "pygments_lexer": "ipython3",
   "version": "3.12.3"
  }
 },
 "nbformat": 4,
 "nbformat_minor": 2
}
