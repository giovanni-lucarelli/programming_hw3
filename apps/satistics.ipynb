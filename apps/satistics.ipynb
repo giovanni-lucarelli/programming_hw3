{
 "cells": [
  {
   "cell_type": "code",
   "execution_count": 1,
   "metadata": {},
   "outputs": [],
   "source": [
    "import sys\n",
    "sys.path.append('../build')\n",
    "import data_frame as df"
   ]
  },
  {
   "cell_type": "markdown",
   "metadata": {},
   "source": [
    "# Using the C++ module"
   ]
  },
  {
   "cell_type": "code",
   "execution_count": 6,
   "metadata": {},
   "outputs": [],
   "source": [
    "iris = df.DataFrame()\n",
    "\n",
    "iris.read_csv('../datasets/iris.csv')"
   ]
  },
  {
   "cell_type": "code",
   "execution_count": 7,
   "metadata": {},
   "outputs": [
    {
     "name": "stdout",
     "output_type": "stream",
     "text": [
      "----------------------------------------- Dataset Head -----------------------------------------\n",
      "Id              SepalLengthCm   SepalWidthCm    PetalLengthCm   PetalWidthCm    Species         \n",
      "1               5.1             nan             1.4             0.2             Iris-setosa     \n",
      "2               4.9             3               1.4             0.2             Iris-setosa     \n",
      "3               4.7             3.2             1.3             nan             Iris-setosa     \n",
      "4               4.6             3.1             1.5             0.2             Iris-setosa     \n",
      "5               5               3.6             1.4             0.2             Iris-setosa     \n",
      "------------------------------------------------------------------------------------------------\n"
     ]
    }
   ],
   "source": [
    "iris.head()"
   ]
  },
  {
   "cell_type": "code",
   "execution_count": 14,
   "metadata": {},
   "outputs": [
    {
     "name": "stdout",
     "output_type": "stream",
     "text": [
      "Help on method head in module data_frame:\n",
      "\n",
      "head(...) method of data_frame.DataFrame instance\n",
      "    head(self: data_frame.DataFrame) -> None\n",
      "\n",
      "    Print the first 5 rows of the dataframe\n",
      "\n",
      "                Parameters:\n",
      "                    None\n",
      "\n"
     ]
    }
   ],
   "source": [
    "help(iris.head)"
   ]
  },
  {
   "cell_type": "code",
   "execution_count": null,
   "metadata": {},
   "outputs": [],
   "source": []
  }
 ],
 "metadata": {
  "kernelspec": {
   "display_name": "base",
   "language": "python",
   "name": "python3"
  },
  "language_info": {
   "codemirror_mode": {
    "name": "ipython",
    "version": 3
   },
   "file_extension": ".py",
   "mimetype": "text/x-python",
   "name": "python",
   "nbconvert_exporter": "python",
   "pygments_lexer": "ipython3",
   "version": "3.12.2"
  }
 },
 "nbformat": 4,
 "nbformat_minor": 2
}
